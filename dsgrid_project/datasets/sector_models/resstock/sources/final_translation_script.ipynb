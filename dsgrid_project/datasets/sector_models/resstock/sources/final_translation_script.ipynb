{
 "cells": [
  {
   "cell_type": "markdown",
   "metadata": {},
   "source": [
    "Import necessary libraries"
   ]
  },
  {
   "cell_type": "code",
   "execution_count": 8,
   "metadata": {},
   "outputs": [],
   "source": [
    "import numpy as np\n",
    "import pandas as pd\n",
    "import pyarrow.parquet as pq\n",
    "import sys\n",
    "import os\n",
    "import shutil"
   ]
  },
  {
   "cell_type": "markdown",
   "metadata": {},
   "source": [
    "User input and directory creation"
   ]
  },
  {
   "cell_type": "code",
   "execution_count": 9,
   "metadata": {},
   "outputs": [
    {
     "name": "stdout",
     "output_type": "stream",
     "text": [
      "What model was used to create these results?\n"
     ]
    },
    {
     "name": "stdin",
     "output_type": "stream",
     "text": [
      " resstock\n"
     ]
    },
    {
     "name": "stdout",
     "output_type": "stream",
     "text": [
      "You have entered resstock, is that correct? [y/n]\n"
     ]
    },
    {
     "name": "stdin",
     "output_type": "stream",
     "text": [
      " y\n"
     ]
    },
    {
     "name": "stdout",
     "output_type": "stream",
     "text": [
      "Great!\n",
      "Input the timeseries results file\n"
     ]
    },
    {
     "name": "stdin",
     "output_type": "stream",
     "text": [
      " group0.parquet\n"
     ]
    },
    {
     "name": "stdout",
     "output_type": "stream",
     "text": [
      "You have entered group0.parquet, is that correct? [y/n]\n"
     ]
    },
    {
     "name": "stdin",
     "output_type": "stream",
     "text": [
      " y\n"
     ]
    },
    {
     "name": "stdout",
     "output_type": "stream",
     "text": [
      "Great!\n",
      "Input the county lookup table file\n"
     ]
    },
    {
     "name": "stdin",
     "output_type": "stream",
     "text": [
      " spatial_county_lookup_table.csv\n"
     ]
    },
    {
     "name": "stdout",
     "output_type": "stream",
     "text": [
      "You have entered spatial_county_lookup_table.csv, is that correct? [y/n]\n"
     ]
    },
    {
     "name": "stdin",
     "output_type": "stream",
     "text": [
      " y\n"
     ]
    },
    {
     "name": "stdout",
     "output_type": "stream",
     "text": [
      "Great!\n"
     ]
    }
   ],
   "source": [
    "def initialize_timeseries():\n",
    "    print('Input the timeseries results file')\n",
    "    initialize_timeseries.file = input()\n",
    "    print('You have entered '+ initialize_timeseries.file+', is that correct? [y/n]')\n",
    "    def file_input1():\n",
    "        initialize_timeseries.file_answer = input()\n",
    "        if initialize_timeseries.file_answer == 'y':\n",
    "            print('Great!')\n",
    "            return\n",
    "        elif initialize_timeseries.file_answer == 'n':\n",
    "            print(\"Okay. Let's try again.\")\n",
    "            initialize_timeseries()\n",
    "        else: \n",
    "            print(\"Invalid input. Let's try again.\")\n",
    "            print('You have entered '+ initialize_timeseries.file+', is that correct? [y/n]')\n",
    "            file_input1()\n",
    "    file_input1()\n",
    "              \n",
    "def initialize_model():\n",
    "    print('What model was used to create these results?')\n",
    "    initialize_model.model = input()\n",
    "    print('You have entered '+ initialize_model.model+', is that correct? [y/n]')\n",
    "    file_answer = input()\n",
    "    if file_answer == 'y':\n",
    "        if initialize_model.model == 'ResStock' or initialize_model.model =='resstock' or initialize_model.model =='Resstock':\n",
    "            initialize_model.source = [['rld', 'ResStock'], ['null', 'null']]\n",
    "            initialize_model.sector = [['rld', 'Residential'], ['null', 'null']]\n",
    "            initialize_model.model_output = 'ResStock'\n",
    "            initialize_model.sector_output = 'Residential'\n",
    "            print('Great!')\n",
    "            return\n",
    "        elif initialize_model.model == 'Tempo' or initialize_model.model =='tempo' or initialize_model.model =='TEMPO':\n",
    "            initialize_model.source = [['tld', 'TEMPO'], ['null', 'null']]\n",
    "            initialize_model.sector = [['tld', 'Transportation'], ['null', 'null']]\n",
    "            initialize_model.model_output = 'TEMPO'\n",
    "            initialize_model.sector_output = 'Transportation'\n",
    "            print('Great!')\n",
    "            return\n",
    "        elif initialize_model.model == 'ComStock' or initialize_model.model =='comstock' or initialize_model.model =='Comstock':\n",
    "            initialize_model.source = [['cld', 'ComStock'], ['null', 'null']]\n",
    "            initialize_model.sector = [['cld', 'Commercial'], ['null', 'null']]                \n",
    "            initialize_model.model_output = 'ComStock'\n",
    "            initialize_model.sector_output = 'Commercial'\n",
    "            print('Great')\n",
    "            return\n",
    "        else:\n",
    "            print(\"Invalid input. Let's try again.\")\n",
    "            initialize_model()\n",
    "    elif file_answer == 'n':\n",
    "        print(\"Okay. Let's try again.\")\n",
    "        initialize_model()\n",
    "    else: \n",
    "        print(\"Invalid input. Let's try again.\")            \n",
    "        initialize_model()\n",
    "    \n",
    "    \n",
    "\n",
    "def initialize_county():\n",
    "    print('Input the county lookup table file')\n",
    "    initialize_county.file = input()\n",
    "    print('You have entered '+ initialize_county.file+', is that correct? [y/n]')\n",
    "    def file_input2():\n",
    "        file_answer = input()\n",
    "        if file_answer == 'y':\n",
    "            print('Great!')\n",
    "            return\n",
    "        elif file_answer == 'n':\n",
    "            print(\"Okay. Let's try again.\")\n",
    "            initialize_county()\n",
    "        else: \n",
    "            print(\"Invalid input. Let's try again.\")\n",
    "            print('You have entered '+ initialize_county.file+', is that correct? [y/n]')\n",
    "            file_input2()\n",
    "    file_input2()\n",
    "       \n",
    "def cleardir():\n",
    "    path = '/Users/nsandova/NREL_Practice/Translation/output'\n",
    "    isdir = os.path.isdir(path)\n",
    "    if isdir == True:\n",
    "        shutil.rmtree(path)\n",
    "        os.mkdir(path)\n",
    "        os.chdir('/Users/nsandova/NREL_Practice/Translation')\n",
    "        return\n",
    "    else:\n",
    "        os.mkdir(path)\n",
    "        os.chdir('/Users/nsandova/NREL_Practice/Translation')\n",
    "        return\n",
    "    \n",
    "initialize_model()\n",
    "initialize_timeseries()\n",
    "initialize_county()\n",
    "cleardir()"
   ]
  },
  {
   "cell_type": "raw",
   "metadata": {},
   "source": [
    "Translate inputted file into appropriate dataframes"
   ]
  },
  {
   "cell_type": "code",
   "execution_count": 10,
   "metadata": {},
   "outputs": [
    {
     "name": "stdout",
     "output_type": "stream",
     "text": [
      "<bound method NDFrame.head of                            Time             TimeDST             TimeUTC  \\\n",
      "building_id                                                               \n",
      "3           2018-01-01 00:15:00 2018-01-01 00:15:00 2018-01-01 06:15:00   \n",
      "3           2018-01-01 00:30:00 2018-01-01 00:30:00 2018-01-01 06:30:00   \n",
      "3           2018-01-01 00:45:00 2018-01-01 00:45:00 2018-01-01 06:45:00   \n",
      "3           2018-01-01 01:00:00 2018-01-01 01:00:00 2018-01-01 07:00:00   \n",
      "3           2018-01-01 01:15:00 2018-01-01 01:15:00 2018-01-01 07:15:00   \n",
      "...                         ...                 ...                 ...   \n",
      "10          2018-12-31 23:00:00 2018-12-31 23:00:00 2019-01-01 06:00:00   \n",
      "10          2018-12-31 23:15:00 2018-12-31 23:15:00 2019-01-01 06:15:00   \n",
      "10          2018-12-31 23:30:00 2018-12-31 23:30:00 2019-01-01 06:30:00   \n",
      "10          2018-12-31 23:45:00 2018-12-31 23:45:00 2019-01-01 06:45:00   \n",
      "10          2019-01-01 00:00:00 2019-01-01 00:00:00 2019-01-01 07:00:00   \n",
      "\n",
      "             electricity_bath_fan_kwh  electricity_ceiling_fan_kwh  \\\n",
      "building_id                                                          \n",
      "3                                 0.0                     0.002931   \n",
      "3                                 0.0                     0.002931   \n",
      "3                                 0.0                     0.002931   \n",
      "3                                 0.0                     0.002931   \n",
      "3                                 0.0                     0.002931   \n",
      "...                               ...                          ...   \n",
      "10                                0.0                     0.000000   \n",
      "10                                0.0                     0.000000   \n",
      "10                                0.0                     0.000000   \n",
      "10                                0.0                     0.000000   \n",
      "10                                0.0                     0.000000   \n",
      "\n",
      "             electricity_clothes_dryer_kwh  electricity_clothes_washer_kwh  \\\n",
      "building_id                                                                  \n",
      "3                                      0.0                             0.0   \n",
      "3                                      0.0                             0.0   \n",
      "3                                      0.0                             0.0   \n",
      "3                                      0.0                             0.0   \n",
      "3                                      0.0                             0.0   \n",
      "...                                    ...                             ...   \n",
      "10                                     0.0                             0.0   \n",
      "10                                     0.0                             0.0   \n",
      "10                                     0.0                             0.0   \n",
      "10                                     0.0                             0.0   \n",
      "10                                     0.0                             0.0   \n",
      "\n",
      "             electricity_cooking_range_kwh  electricity_cooling_kwh  \\\n",
      "building_id                                                           \n",
      "3                                      0.0                      0.0   \n",
      "3                                      0.0                      0.0   \n",
      "3                                      0.0                      0.0   \n",
      "3                                      0.0                      0.0   \n",
      "3                                      0.0                      0.0   \n",
      "...                                    ...                      ...   \n",
      "10                                     0.0                      0.0   \n",
      "10                                     0.0                      0.0   \n",
      "10                                     0.0                      0.0   \n",
      "10                                     0.0                      0.0   \n",
      "10                                     0.0                      0.0   \n",
      "\n",
      "             electricity_dishwasher_kwh  ...  schedules_sinks  \\\n",
      "building_id                              ...                    \n",
      "3                                   0.0  ...         0.000000   \n",
      "3                                   0.0  ...         0.000000   \n",
      "3                                   0.0  ...         0.012218   \n",
      "3                                   0.0  ...         0.006109   \n",
      "3                                   0.0  ...         0.000000   \n",
      "...                                 ...  ...              ...   \n",
      "10                                  0.0  ...         0.000000   \n",
      "10                                  0.0  ...         0.000000   \n",
      "10                                  0.0  ...         0.000000   \n",
      "10                                  0.0  ...         0.000000   \n",
      "10                                  0.0  ...         0.000000   \n",
      "\n",
      "             schedules_sleep  schedules_vacancy  total_site_electricity_kwh  \\\n",
      "building_id                                                                   \n",
      "3                        1.0                0.0                    0.095292   \n",
      "3                        1.0                0.0                    0.098966   \n",
      "3                        1.0                0.0                    0.100473   \n",
      "3                        1.0                0.0                    0.102659   \n",
      "3                        1.0                0.0                    0.104902   \n",
      "...                      ...                ...                         ...   \n",
      "10                       0.0                0.0                    0.110482   \n",
      "10                       0.0                0.0                    0.156648   \n",
      "10                       0.0                0.0                    0.111120   \n",
      "10                       0.0                0.0                    0.112098   \n",
      "10                       0.0                0.0                    0.112884   \n",
      "\n",
      "             total_site_energy_mbtu  total_site_fuel_oil_mbtu  \\\n",
      "building_id                                                     \n",
      "3                          0.000325                       0.0   \n",
      "3                          0.000732                       0.0   \n",
      "3                          0.002528                       0.0   \n",
      "3                          0.001141                       0.0   \n",
      "3                          0.001492                       0.0   \n",
      "...                             ...                       ...   \n",
      "10                         0.003668                       0.0   \n",
      "10                         0.003905                       0.0   \n",
      "10                         0.003918                       0.0   \n",
      "10                         0.004012                       0.0   \n",
      "10                         0.004087                       0.0   \n",
      "\n",
      "             total_site_natural_gas_therm  total_site_propane_mbtu  \\\n",
      "building_id                                                          \n",
      "3                                0.000000                      0.0   \n",
      "3                                0.003945                      0.0   \n",
      "3                                0.021860                      0.0   \n",
      "3                                0.007912                      0.0   \n",
      "3                                0.011340                      0.0   \n",
      "...                                   ...                      ...   \n",
      "10                               0.032923                      0.0   \n",
      "10                               0.033710                      0.0   \n",
      "10                               0.035400                      0.0   \n",
      "10                               0.036303                      0.0   \n",
      "10                               0.037028                      0.0   \n",
      "\n",
      "             total_site_wood_mbtu  wood_heating_mbtu  \n",
      "building_id                                           \n",
      "3                             0.0                0.0  \n",
      "3                             0.0                0.0  \n",
      "3                             0.0                0.0  \n",
      "3                             0.0                0.0  \n",
      "3                             0.0                0.0  \n",
      "...                           ...                ...  \n",
      "10                            0.0                0.0  \n",
      "10                            0.0                0.0  \n",
      "10                            0.0                0.0  \n",
      "10                            0.0                0.0  \n",
      "10                            0.0                0.0  \n",
      "\n",
      "[210240 rows x 76 columns]>\n"
     ]
    }
   ],
   "source": [
    "# Read parquet file\n",
    "timeseries = pq.read_table(initialize_timeseries.file)\n",
    "\n",
    "# Translate parquet file into a dataframe\n",
    "timeseries_df = timeseries.to_pandas()\n",
    "\n",
    "## Create enduse dataframe\n",
    "column = list(timeseries_df.columns)\n",
    "enduse = [s for s in column if s.startswith('electricity') or s.startswith('fuel_oil') or s.startswith('natural_gas') or s.startswith('propane')or s.startswith('wood_heating')]\n",
    "\n",
    "# Create name column\n",
    "enduse_short = []\n",
    "for i in enduse:\n",
    "    enduse_partition = i.rpartition('_')[0]\n",
    "    enduse_short.append(enduse_partition)\n",
    "    \n",
    "# Create index column\n",
    "num = len(enduse)\n",
    "id = []\n",
    "for i in range(0,num):\n",
    "    id.append(i)\n",
    "\n",
    "#Create fuel type column\n",
    "fuel_type_scrape = []\n",
    "for i in enduse:  \n",
    "    fuel_type_partition = i.partition('_')[0]\n",
    "    fuel_type_scrape.append(fuel_type_partition)\n",
    "    \n",
    "fuel_type_1 = []\n",
    "for entry in fuel_type_scrape:\n",
    "    fuel = entry.replace('fuel','fuel oil')\n",
    "    fuel_type_1.append(fuel)\n",
    "   \n",
    "fuel_type_2 = []\n",
    "for entry in fuel_type_1:\n",
    "    fuel = entry.replace('natural','natural gas')\n",
    "    fuel_type_2.append(fuel)\n",
    "\n",
    "fuel_type_final = []\n",
    "for entry in fuel_type_2:\n",
    "    fuel = entry.replace('wood','wood heating')\n",
    "    fuel_type_final.append(fuel)\n",
    "\n",
    "# Create units column\n",
    "units = []\n",
    "for i in enduse:  \n",
    "    unit_partition = i.rpartition('_')[-1]\n",
    "    units.append(unit_partition)\n",
    "\n",
    "# Combine id, name, fuel type, and units into final enduse dataframe\n",
    "enduse_final = {'id':id,'name':enduse_short,'fuel type': fuel_type_final, 'units': units}\n",
    "enduse_final_df = pd.DataFrame(enduse_final)\n",
    "\n",
    "\n",
    "# Create county dataframe\n",
    "county_df = pd.read_csv(initialize_county.file)\n",
    "\n",
    "# Pull relevant columns\n",
    "fips = county_df.loc[:,\"fips\"]\n",
    "county = county_df.loc[:,'county_name']\n",
    "state = county_df.loc[:,'state_abbr']\n",
    "\n",
    "# Combine columns into final county dataframe\n",
    "county_csv = {'id':fips,'name':county,'state': state}\n",
    "county_final_df = pd.DataFrame(county_csv)\n",
    "\n",
    "# Create final sources dataframe\n",
    "sources_df = pd.DataFrame(initialize_model.source, columns = ['id','name'])\n",
    "sources_df.drop([1], axis=0, inplace = True)\n",
    "\n",
    "# Create final sectors dataframe\n",
    "sectors_df = pd.DataFrame(initialize_model.sector, columns = ['id','name'])\n",
    "sectors_df.drop([1], axis=0, inplace = True)\n"
   ]
  },
  {
   "cell_type": "markdown",
   "metadata": {},
   "source": [
    "Create .csv files in output directory"
   ]
  },
  {
   "cell_type": "code",
   "execution_count": 11,
   "metadata": {},
   "outputs": [],
   "source": [
    "# Change to ouput directory\n",
    "os.chdir('/Users/nsandova/NREL_Practice/Translation/output')\n",
    "\n",
    "# Create enduses.csv\n",
    "enduse_final_df.to_csv('enduses.csv', index = False)\n",
    "\n",
    "# Create sources.csv file\n",
    "sources_df.to_csv('sources.csv', index = False)\n",
    "\n",
    "# Create sectors.csv file\n",
    "sectors_df.to_csv('sectors.csv', index = False)\n",
    "\n",
    "# Create county.csv file\n",
    "county_final_df.to_csv('county.csv', index = False)"
   ]
  },
  {
   "cell_type": "markdown",
   "metadata": {},
   "source": [
    "Create .toml file"
   ]
  },
  {
   "cell_type": "code",
   "execution_count": 12,
   "metadata": {},
   "outputs": [],
   "source": [
    "# Change to Translation directory\n",
    "os.chdir('/Users/nsandova/NREL_Practice/Translation')\n",
    "\n",
    "# Import .toml file\n",
    "import toml\n",
    "\n",
    "# Transform .toml file into a dictionary\n",
    "dimensions_toml = toml.load(\"template.toml\")\n",
    "\n",
    "# Edit toml dictionary with initialize_model function inputs\n",
    "dimensions_toml['dimensions'][1]['description'] = 'dsgrid Standard Scenarios 2021 Sectors;'+ initialize_model.sector_output+' only'\n",
    "dimensions_toml['dimensions'][1]['name'] = 'Standard Scenarios 2021 Sectors-'+initialize_model.sector_output +'-Only'\n",
    "dimensions_toml['dimensions'][5]['description'] ='dsgrid Standard Scenarios 2021 Data Sources;'+ initialize_model.model_output +' Only\\n'\n",
    "dimensions_toml['dimensions'][5]['name'] = 'Standard Scenarios 2021 DataSourcs -'+initialize_model.model_output +'-Only'\n",
    "\n",
    "# Change to ouput directory\n",
    "os.chdir('/Users/nsandova/NREL_Practice/Translation/output')\n",
    "\n",
    "# Create .toml file\n",
    "with open ('dimensions.toml','w') as f:\n",
    "   data = toml.dump(dimensions_toml,f)\n",
    " "
   ]
  },
  {
   "cell_type": "code",
   "execution_count": null,
   "metadata": {},
   "outputs": [],
   "source": []
  }
 ],
 "metadata": {
  "kernelspec": {
   "display_name": "Python 3",
   "language": "python",
   "name": "python3"
  },
  "language_info": {
   "codemirror_mode": {
    "name": "ipython",
    "version": 3
   },
   "file_extension": ".py",
   "mimetype": "text/x-python",
   "name": "python",
   "nbconvert_exporter": "python",
   "pygments_lexer": "ipython3",
   "version": "3.7.6"
  }
 },
 "nbformat": 4,
 "nbformat_minor": 4
}
